{
 "cells": [
  {
   "cell_type": "code",
   "execution_count": 1,
   "id": "8e17288e-69db-4286-9599-1f0a53d5575e",
   "metadata": {},
   "outputs": [],
   "source": [
    "from scipy.stats import shapiro, spearmanr, ttest_ind, chi2_contingency\n",
    "import pandas as pd\n",
    "import numpy as np\n",
    "from sklearn.datasets import load_wine\n",
    "from sklearn.datasets import make_classification\n",
    "import seaborn as sns\n",
    "import matplotlib.pyplot as plt"
   ]
  },
  {
   "cell_type": "code",
   "execution_count": 2,
   "id": "8e983066-d97c-44c4-bdd4-cc816fd35588",
   "metadata": {},
   "outputs": [],
   "source": [
    "wine = load_wine()\n",
    "# Creating the object of wine dataset"
   ]
  },
  {
   "cell_type": "code",
   "execution_count": 3,
   "id": "8fffd6f9-4b9f-4fbf-9364-9df29044eb15",
   "metadata": {},
   "outputs": [
    {
     "data": {
      "text/plain": [
       "['DESCR', 'data', 'feature_names', 'frame', 'target', 'target_names']"
      ]
     },
     "execution_count": 3,
     "metadata": {},
     "output_type": "execute_result"
    }
   ],
   "source": [
    "dir(wine)"
   ]
  },
  {
   "cell_type": "code",
   "execution_count": 4,
   "id": "1bfebd46-9160-4a13-ac7d-b5bdbd93be9e",
   "metadata": {},
   "outputs": [
    {
     "data": {
      "text/plain": [
       "array(['class_0', 'class_1', 'class_2'], dtype='<U7')"
      ]
     },
     "execution_count": 4,
     "metadata": {},
     "output_type": "execute_result"
    }
   ],
   "source": [
    "wine.target_names"
   ]
  },
  {
   "cell_type": "code",
   "execution_count": 5,
   "id": "096064c8-6fbf-4776-ac1b-43914c489056",
   "metadata": {},
   "outputs": [
    {
     "data": {
      "text/plain": [
       "['alcohol',\n",
       " 'malic_acid',\n",
       " 'ash',\n",
       " 'alcalinity_of_ash',\n",
       " 'magnesium',\n",
       " 'total_phenols',\n",
       " 'flavanoids',\n",
       " 'nonflavanoid_phenols',\n",
       " 'proanthocyanins',\n",
       " 'color_intensity',\n",
       " 'hue',\n",
       " 'od280/od315_of_diluted_wines',\n",
       " 'proline']"
      ]
     },
     "execution_count": 5,
     "metadata": {},
     "output_type": "execute_result"
    }
   ],
   "source": [
    "wine.feature_names"
   ]
  },
  {
   "cell_type": "code",
   "execution_count": 6,
   "id": "297a7d4b-bf2d-4720-8762-c638421319c9",
   "metadata": {},
   "outputs": [],
   "source": [
    "df = pd.DataFrame(wine.data, columns=wine.feature_names)\n",
    "df[\"target\"] = wine.target"
   ]
  },
  {
   "cell_type": "code",
   "execution_count": 7,
   "id": "2008d85a-0074-4e6f-adba-d59f5e1f3a04",
   "metadata": {},
   "outputs": [
    {
     "data": {
      "text/html": [
       "<div>\n",
       "<style scoped>\n",
       "    .dataframe tbody tr th:only-of-type {\n",
       "        vertical-align: middle;\n",
       "    }\n",
       "\n",
       "    .dataframe tbody tr th {\n",
       "        vertical-align: top;\n",
       "    }\n",
       "\n",
       "    .dataframe thead th {\n",
       "        text-align: right;\n",
       "    }\n",
       "</style>\n",
       "<table border=\"1\" class=\"dataframe\">\n",
       "  <thead>\n",
       "    <tr style=\"text-align: right;\">\n",
       "      <th></th>\n",
       "      <th>alcohol</th>\n",
       "      <th>malic_acid</th>\n",
       "      <th>ash</th>\n",
       "      <th>alcalinity_of_ash</th>\n",
       "      <th>magnesium</th>\n",
       "      <th>total_phenols</th>\n",
       "      <th>flavanoids</th>\n",
       "      <th>nonflavanoid_phenols</th>\n",
       "      <th>proanthocyanins</th>\n",
       "      <th>color_intensity</th>\n",
       "      <th>hue</th>\n",
       "      <th>od280/od315_of_diluted_wines</th>\n",
       "      <th>proline</th>\n",
       "      <th>target</th>\n",
       "    </tr>\n",
       "  </thead>\n",
       "  <tbody>\n",
       "    <tr>\n",
       "      <th>0</th>\n",
       "      <td>14.23</td>\n",
       "      <td>1.71</td>\n",
       "      <td>2.43</td>\n",
       "      <td>15.6</td>\n",
       "      <td>127.0</td>\n",
       "      <td>2.80</td>\n",
       "      <td>3.06</td>\n",
       "      <td>0.28</td>\n",
       "      <td>2.29</td>\n",
       "      <td>5.64</td>\n",
       "      <td>1.04</td>\n",
       "      <td>3.92</td>\n",
       "      <td>1065.0</td>\n",
       "      <td>0</td>\n",
       "    </tr>\n",
       "    <tr>\n",
       "      <th>1</th>\n",
       "      <td>13.20</td>\n",
       "      <td>1.78</td>\n",
       "      <td>2.14</td>\n",
       "      <td>11.2</td>\n",
       "      <td>100.0</td>\n",
       "      <td>2.65</td>\n",
       "      <td>2.76</td>\n",
       "      <td>0.26</td>\n",
       "      <td>1.28</td>\n",
       "      <td>4.38</td>\n",
       "      <td>1.05</td>\n",
       "      <td>3.40</td>\n",
       "      <td>1050.0</td>\n",
       "      <td>0</td>\n",
       "    </tr>\n",
       "    <tr>\n",
       "      <th>2</th>\n",
       "      <td>13.16</td>\n",
       "      <td>2.36</td>\n",
       "      <td>2.67</td>\n",
       "      <td>18.6</td>\n",
       "      <td>101.0</td>\n",
       "      <td>2.80</td>\n",
       "      <td>3.24</td>\n",
       "      <td>0.30</td>\n",
       "      <td>2.81</td>\n",
       "      <td>5.68</td>\n",
       "      <td>1.03</td>\n",
       "      <td>3.17</td>\n",
       "      <td>1185.0</td>\n",
       "      <td>0</td>\n",
       "    </tr>\n",
       "    <tr>\n",
       "      <th>3</th>\n",
       "      <td>14.37</td>\n",
       "      <td>1.95</td>\n",
       "      <td>2.50</td>\n",
       "      <td>16.8</td>\n",
       "      <td>113.0</td>\n",
       "      <td>3.85</td>\n",
       "      <td>3.49</td>\n",
       "      <td>0.24</td>\n",
       "      <td>2.18</td>\n",
       "      <td>7.80</td>\n",
       "      <td>0.86</td>\n",
       "      <td>3.45</td>\n",
       "      <td>1480.0</td>\n",
       "      <td>0</td>\n",
       "    </tr>\n",
       "    <tr>\n",
       "      <th>4</th>\n",
       "      <td>13.24</td>\n",
       "      <td>2.59</td>\n",
       "      <td>2.87</td>\n",
       "      <td>21.0</td>\n",
       "      <td>118.0</td>\n",
       "      <td>2.80</td>\n",
       "      <td>2.69</td>\n",
       "      <td>0.39</td>\n",
       "      <td>1.82</td>\n",
       "      <td>4.32</td>\n",
       "      <td>1.04</td>\n",
       "      <td>2.93</td>\n",
       "      <td>735.0</td>\n",
       "      <td>0</td>\n",
       "    </tr>\n",
       "  </tbody>\n",
       "</table>\n",
       "</div>"
      ],
      "text/plain": [
       "   alcohol  malic_acid   ash  alcalinity_of_ash  magnesium  total_phenols  \\\n",
       "0    14.23        1.71  2.43               15.6      127.0           2.80   \n",
       "1    13.20        1.78  2.14               11.2      100.0           2.65   \n",
       "2    13.16        2.36  2.67               18.6      101.0           2.80   \n",
       "3    14.37        1.95  2.50               16.8      113.0           3.85   \n",
       "4    13.24        2.59  2.87               21.0      118.0           2.80   \n",
       "\n",
       "   flavanoids  nonflavanoid_phenols  proanthocyanins  color_intensity   hue  \\\n",
       "0        3.06                  0.28             2.29             5.64  1.04   \n",
       "1        2.76                  0.26             1.28             4.38  1.05   \n",
       "2        3.24                  0.30             2.81             5.68  1.03   \n",
       "3        3.49                  0.24             2.18             7.80  0.86   \n",
       "4        2.69                  0.39             1.82             4.32  1.04   \n",
       "\n",
       "   od280/od315_of_diluted_wines  proline  target  \n",
       "0                          3.92   1065.0       0  \n",
       "1                          3.40   1050.0       0  \n",
       "2                          3.17   1185.0       0  \n",
       "3                          3.45   1480.0       0  \n",
       "4                          2.93    735.0       0  "
      ]
     },
     "execution_count": 7,
     "metadata": {},
     "output_type": "execute_result"
    }
   ],
   "source": [
    "df.head()"
   ]
  },
  {
   "cell_type": "code",
   "execution_count": 8,
   "id": "1be5cf64-3609-4a23-a1ec-3d19403b0c4b",
   "metadata": {},
   "outputs": [
    {
     "data": {
      "image/png": "[encoded data removed]",
      "text/plain": [
       "<Figure size 500x400 with 1 Axes>"
      ]
     },
     "metadata": {},
     "output_type": "display_data"
    }
   ],
   "source": [
    "plt.figure(figsize=(5,4))\n",
    "sns.histplot(x=df[\"alcohol\"], kde=True)\n",
    "plt.show()"
   ]
  },
  {
   "cell_type": "code",
   "execution_count": 9,
   "id": "b7d08c5c-9022-449f-982f-8b4cc0f8d39e",
   "metadata": {},
   "outputs": [
    {
     "name": "stdout",
     "output_type": "stream",
     "text": [
      "Statistical Value 0.98180%\n",
      "p_value 0.02005%\n",
      "Reject null hypothesis\n"
     ]
    }
   ],
   "source": [
    "stats, p_val = shapiro(df[\"alcohol\"])\n",
    "\n",
    "print(\"Statistical Value %.5f%%\"%stats)\n",
    "print(\"p_value %.5f%%\"%p_val)\n",
    "\n",
    "alpha = 0.05\n",
    "\n",
    "if p_val>alpha:\n",
    "    print(\"Accept Null hypothesis\")\n",
    "else:\n",
    "    print(\"Reject null hypothesis\")"
   ]
  },
  {
   "cell_type": "code",
   "execution_count": 10,
   "id": "bd8c4d6d-2633-437e-8fce-643bd73b2388",
   "metadata": {},
   "outputs": [
    {
     "data": {
      "image/png": "[encoded data removed]",
      "text/plain": [
       "<Figure size 500x400 with 1 Axes>"
      ]
     },
     "metadata": {},
     "output_type": "display_data"
    }
   ],
   "source": [
    "plt.figure(figsize=(5,4))\n",
    "sns.histplot(x=df[\"magnesium\"], kde=True)\n",
    "plt.show()"
   ]
  },
  {
   "cell_type": "code",
   "execution_count": 11,
   "id": "890f68a6-1652-415c-b13e-db52056d5b39",
   "metadata": {},
   "outputs": [],
   "source": [
    "normal_data = np.random.normal(size = 1000)"
   ]
  },
  {
   "cell_type": "code",
   "execution_count": 12,
   "id": "f4709780-5b72-4b5e-8d23-03061e8d12cb",
   "metadata": {},
   "outputs": [
    {
     "data": {
      "image/png": "[encoded data removed]",
      "text/plain": [
       "<Figure size 500x400 with 1 Axes>"
      ]
     },
     "metadata": {},
     "output_type": "display_data"
    }
   ],
   "source": [
    "plt.figure(figsize=(5,4))\n",
    "sns.histplot(x=normal_data, kde=True)\n",
    "plt.show()"
   ]
  },
  {
   "cell_type": "code",
   "execution_count": 13,
   "id": "1cd2c15d-6c28-49ff-9515-005f62517958",
   "metadata": {},
   "outputs": [
    {
     "name": "stdout",
     "output_type": "stream",
     "text": [
      "Statistical Value 0.99791%\n",
      "p_value 0.24592%\n",
      "Accept null hypothesis\n"
     ]
    }
   ],
   "source": [
    "# H0 -> Data is normally distributed\n",
    "# H1 -> Data is not normally distributed\n",
    "\n",
    "stats, p_val = shapiro(normal_data)\n",
    "\n",
    "print(\"Statistical Value %.5f%%\"%stats)\n",
    "print(\"p_value %.5f%%\"%p_val)\n",
    "\n",
    "alpha = 0.05\n",
    "\n",
    "if p_val>alpha:\n",
    "    print(\"Accept null hypothesis\")\n",
    "else:\n",
    "    print(\"Reject null hypothesis\")"
   ]
  },
  {
   "cell_type": "code",
   "execution_count": 14,
   "id": "91da1065-ed9c-4d1a-bafa-f6711b9cde93",
   "metadata": {},
   "outputs": [
    {
     "data": {
      "image/png": "[encoded data removed]",
      "text/plain": [
       "<Figure size 500x400 with 1 Axes>"
      ]
     },
     "metadata": {},
     "output_type": "display_data"
    }
   ],
   "source": [
    "plt.figure(figsize=(5,4))\n",
    "sns.histplot(x=df[\"total_phenols\"], kde=True)\n",
    "plt.show()"
   ]
  },
  {
   "cell_type": "code",
   "execution_count": 15,
   "id": "1cff44fe-14cf-45c4-bf3c-6d6160fcd238",
   "metadata": {},
   "outputs": [
    {
     "name": "stdout",
     "output_type": "stream",
     "text": [
      "Statistical Value 0.97668%\n",
      "p_value 0.00439%\n",
      "Accept alternet hypothesis\n"
     ]
    }
   ],
   "source": [
    "# H0 -> Data is normally distributed\n",
    "# H1 -> Data is not normally distributed\n",
    "\n",
    "stats, p_val = shapiro(df[\"total_phenols\"])\n",
    "\n",
    "print(\"Statistical Value %.5f%%\"%stats)\n",
    "print(\"p_value %.5f%%\"%p_val)\n",
    "\n",
    "alpha = 0.05\n",
    "\n",
    "if p_val>alpha:\n",
    "    print(\"Accept null hypothesis\")\n",
    "else:\n",
    "    print(\"Accept alternet hypothesis\")"
   ]
  },
  {
   "cell_type": "code",
   "execution_count": 16,
   "id": "85b7bb48-37f4-45db-85c9-aa7fd8d0214c",
   "metadata": {},
   "outputs": [
    {
     "data": {
      "image/png": "[encoded data removed]",
      "text/plain": [
       "<Figure size 640x480 with 1 Axes>"
      ]
     },
     "metadata": {},
     "output_type": "display_data"
    }
   ],
   "source": [
    "sns.scatterplot(x=df[\"flavanoids\"], y=df[\"target\"])\n",
    "plt.show()"
   ]
  },
  {
   "cell_type": "code",
   "execution_count": 17,
   "id": "acd7fb07-4688-446d-82cd-76f0d656a710",
   "metadata": {},
   "outputs": [
    {
     "name": "stdout",
     "output_type": "stream",
     "text": [
      "Statistical Value -0.85491%\n",
      "p_value 0.00000%\n",
      "Accept alternet hypothesis\n"
     ]
    }
   ],
   "source": [
    "# H0 -> There is significant relation in flavonoid and target column\n",
    "# H1 -> There is no significant relation in flavonoid and target column\n",
    "\n",
    "stats, p_val = spearmanr(df[\"flavanoids\"], df[\"target\"])\n",
    "\n",
    "print(\"Statistical Value %.5f%%\"%stats)\n",
    "print(\"p_value %.5f%%\"%p_val)\n",
    "\n",
    "alpha = 0.05\n",
    "\n",
    "if p_val>alpha:\n",
    "    print(\"Accept null hypothesis\")\n",
    "else:\n",
    "    print(\"Accept alternet hypothesis\")"
   ]
  },
  {
   "cell_type": "code",
   "execution_count": 18,
   "id": "1d89736e-6ff3-4588-ad9e-42b2f80eaac8",
   "metadata": {},
   "outputs": [
    {
     "name": "stdout",
     "output_type": "stream",
     "text": [
      "Statistical Value -1.00000%\n",
      "p_value 0.00000%\n",
      "Accept alternet hypothesis\n"
     ]
    }
   ],
   "source": [
    "# H0 -> There is significant relation \n",
    "# H1 -> There is no significant relation\n",
    "a = [1,2,3,4,5]\n",
    "b = [5,4,3,2,1]\n",
    "stats, p_val = spearmanr(a,b)\n",
    "\n",
    "print(\"Statistical Value %.5f%%\"%stats)\n",
    "print(\"p_value %.5f%%\"%p_val)\n",
    "\n",
    "alpha = 0.05\n",
    "\n",
    "if p_val>alpha:\n",
    "    print(\"Accept null hypothesis\")\n",
    "else:\n",
    "    print(\"Accept alternet hypothesis\")"
   ]
  },
  {
   "cell_type": "code",
   "execution_count": 19,
   "id": "379b0ad1-d3d9-4301-918d-8a3743696940",
   "metadata": {},
   "outputs": [],
   "source": [
    "# if the p value is greater than the chosen alpha level, \n",
    "# then the null hypothesis (that the data came from a normally \n",
    "# distributed population) can not be rejected\n",
    "\n",
    "# if the p value is less than the chosen alpha level, \n",
    "# then the null hypothesis is rejected"
   ]
  },
  {
   "cell_type": "code",
   "execution_count": 20,
   "id": "e8f6bd17-e080-435b-9fbf-ae15dbcdf2ac",
   "metadata": {},
   "outputs": [],
   "source": [
    "data = make_classification( n_samples=1000, n_features=5, n_classes=2)"
   ]
  },
  {
   "cell_type": "code",
   "execution_count": 21,
   "id": "1f6128ff-cf0e-4026-942c-d83ae35b2972",
   "metadata": {},
   "outputs": [],
   "source": [
    "# n_sample -> No. of rows\n",
    "# n_features -> No. of columns\n",
    "# n_classes -> No. of classes in target column"
   ]
  },
  {
   "cell_type": "code",
   "execution_count": 22,
   "id": "fecdbcca-b36f-45d3-b077-2ff03b0400a4",
   "metadata": {
    "scrolled": true
   },
   "outputs": [
    {
     "data": {
      "text/plain": [
       "tuple"
      ]
     },
     "execution_count": 22,
     "metadata": {},
     "output_type": "execute_result"
    }
   ],
   "source": [
    "type(data)"
   ]
  },
  {
   "cell_type": "code",
   "execution_count": 23,
   "id": "fc286218-e3a2-4b6d-ba32-39649a2beba9",
   "metadata": {},
   "outputs": [
    {
     "data": {
      "text/html": [
       "<div>\n",
       "<style scoped>\n",
       "    .dataframe tbody tr th:only-of-type {\n",
       "        vertical-align: middle;\n",
       "    }\n",
       "\n",
       "    .dataframe tbody tr th {\n",
       "        vertical-align: top;\n",
       "    }\n",
       "\n",
       "    .dataframe thead th {\n",
       "        text-align: right;\n",
       "    }\n",
       "</style>\n",
       "<table border=\"1\" class=\"dataframe\">\n",
       "  <thead>\n",
       "    <tr style=\"text-align: right;\">\n",
       "      <th></th>\n",
       "      <th>Col_1</th>\n",
       "      <th>Col_2</th>\n",
       "      <th>Col_3</th>\n",
       "      <th>Col_4</th>\n",
       "      <th>Col_5</th>\n",
       "    </tr>\n",
       "  </thead>\n",
       "  <tbody>\n",
       "    <tr>\n",
       "      <th>0</th>\n",
       "      <td>1.813705</td>\n",
       "      <td>1.030522</td>\n",
       "      <td>-0.043032</td>\n",
       "      <td>-1.839378</td>\n",
       "      <td>-1.359787</td>\n",
       "    </tr>\n",
       "    <tr>\n",
       "      <th>1</th>\n",
       "      <td>-2.076376</td>\n",
       "      <td>-1.188640</td>\n",
       "      <td>0.448513</td>\n",
       "      <td>1.573048</td>\n",
       "      <td>1.670741</td>\n",
       "    </tr>\n",
       "    <tr>\n",
       "      <th>2</th>\n",
       "      <td>-0.525884</td>\n",
       "      <td>-0.364466</td>\n",
       "      <td>1.194445</td>\n",
       "      <td>-0.971194</td>\n",
       "      <td>0.783393</td>\n",
       "    </tr>\n",
       "    <tr>\n",
       "      <th>3</th>\n",
       "      <td>-0.952414</td>\n",
       "      <td>1.180346</td>\n",
       "      <td>-1.892732</td>\n",
       "      <td>0.428395</td>\n",
       "      <td>-2.030332</td>\n",
       "    </tr>\n",
       "    <tr>\n",
       "      <th>4</th>\n",
       "      <td>-0.447682</td>\n",
       "      <td>-0.125806</td>\n",
       "      <td>-1.071759</td>\n",
       "      <td>1.705712</td>\n",
       "      <td>-0.110254</td>\n",
       "    </tr>\n",
       "  </tbody>\n",
       "</table>\n",
       "</div>"
      ],
      "text/plain": [
       "      Col_1     Col_2     Col_3     Col_4     Col_5\n",
       "0  1.813705  1.030522 -0.043032 -1.839378 -1.359787\n",
       "1 -2.076376 -1.188640  0.448513  1.573048  1.670741\n",
       "2 -0.525884 -0.364466  1.194445 -0.971194  0.783393\n",
       "3 -0.952414  1.180346 -1.892732  0.428395 -2.030332\n",
       "4 -0.447682 -0.125806 -1.071759  1.705712 -0.110254"
      ]
     },
     "execution_count": 23,
     "metadata": {},
     "output_type": "execute_result"
    }
   ],
   "source": [
    "df = pd.DataFrame(data[0], columns=[f\"Col_{i+1}\" for i in range(5)])\n",
    "df.head()"
   ]
  },
  {
   "cell_type": "code",
   "execution_count": 24,
   "id": "d17014dd-bb15-4455-a739-3cd8a73feba3",
   "metadata": {},
   "outputs": [
    {
     "data": {
      "text/plain": [
       "array([[ 1.81370474,  1.03052157, -0.04303241, -1.83937768, -1.35978746],\n",
       "       [-2.07637632, -1.18864038,  0.44851253,  1.573048  ,  1.67074083],\n",
       "       [-0.52588425, -0.36446591,  1.19444459, -0.97119366,  0.78339311],\n",
       "       [-0.95241427,  1.18034606, -1.89273193,  0.42839463, -2.0303324 ],\n",
       "       [-0.44768246, -0.12580628, -1.07175902,  1.70571223, -0.11025423]])"
      ]
     },
     "execution_count": 24,
     "metadata": {},
     "output_type": "execute_result"
    }
   ],
   "source": [
    "data[0][:5]"
   ]
  },
  {
   "cell_type": "code",
   "execution_count": 25,
   "id": "97e7bec6-c3fe-4033-a152-3478ec252e07",
   "metadata": {},
   "outputs": [],
   "source": [
    "df[\"target\"] = data[1]"
   ]
  },
  {
   "cell_type": "code",
   "execution_count": 26,
   "id": "1c72782f-535d-4f72-9937-4ce73eab6293",
   "metadata": {},
   "outputs": [
    {
     "data": {
      "text/html": [
       "<div>\n",
       "<style scoped>\n",
       "    .dataframe tbody tr th:only-of-type {\n",
       "        vertical-align: middle;\n",
       "    }\n",
       "\n",
       "    .dataframe tbody tr th {\n",
       "        vertical-align: top;\n",
       "    }\n",
       "\n",
       "    .dataframe thead th {\n",
       "        text-align: right;\n",
       "    }\n",
       "</style>\n",
       "<table border=\"1\" class=\"dataframe\">\n",
       "  <thead>\n",
       "    <tr style=\"text-align: right;\">\n",
       "      <th></th>\n",
       "      <th>Col_1</th>\n",
       "      <th>Col_2</th>\n",
       "      <th>Col_3</th>\n",
       "      <th>Col_4</th>\n",
       "      <th>Col_5</th>\n",
       "      <th>target</th>\n",
       "    </tr>\n",
       "  </thead>\n",
       "  <tbody>\n",
       "    <tr>\n",
       "      <th>0</th>\n",
       "      <td>1.813705</td>\n",
       "      <td>1.030522</td>\n",
       "      <td>-0.043032</td>\n",
       "      <td>-1.839378</td>\n",
       "      <td>-1.359787</td>\n",
       "      <td>0</td>\n",
       "    </tr>\n",
       "    <tr>\n",
       "      <th>1</th>\n",
       "      <td>-2.076376</td>\n",
       "      <td>-1.188640</td>\n",
       "      <td>0.448513</td>\n",
       "      <td>1.573048</td>\n",
       "      <td>1.670741</td>\n",
       "      <td>1</td>\n",
       "    </tr>\n",
       "    <tr>\n",
       "      <th>2</th>\n",
       "      <td>-0.525884</td>\n",
       "      <td>-0.364466</td>\n",
       "      <td>1.194445</td>\n",
       "      <td>-0.971194</td>\n",
       "      <td>0.783393</td>\n",
       "      <td>0</td>\n",
       "    </tr>\n",
       "    <tr>\n",
       "      <th>3</th>\n",
       "      <td>-0.952414</td>\n",
       "      <td>1.180346</td>\n",
       "      <td>-1.892732</td>\n",
       "      <td>0.428395</td>\n",
       "      <td>-2.030332</td>\n",
       "      <td>1</td>\n",
       "    </tr>\n",
       "    <tr>\n",
       "      <th>4</th>\n",
       "      <td>-0.447682</td>\n",
       "      <td>-0.125806</td>\n",
       "      <td>-1.071759</td>\n",
       "      <td>1.705712</td>\n",
       "      <td>-0.110254</td>\n",
       "      <td>1</td>\n",
       "    </tr>\n",
       "  </tbody>\n",
       "</table>\n",
       "</div>"
      ],
      "text/plain": [
       "      Col_1     Col_2     Col_3     Col_4     Col_5  target\n",
       "0  1.813705  1.030522 -0.043032 -1.839378 -1.359787       0\n",
       "1 -2.076376 -1.188640  0.448513  1.573048  1.670741       1\n",
       "2 -0.525884 -0.364466  1.194445 -0.971194  0.783393       0\n",
       "3 -0.952414  1.180346 -1.892732  0.428395 -2.030332       1\n",
       "4 -0.447682 -0.125806 -1.071759  1.705712 -0.110254       1"
      ]
     },
     "execution_count": 26,
     "metadata": {},
     "output_type": "execute_result"
    }
   ],
   "source": [
    "df.head()"
   ]
  },
  {
   "cell_type": "code",
   "execution_count": 27,
   "id": "5226dcac-083e-43db-afe5-2d64dbc418d5",
   "metadata": {},
   "outputs": [
    {
     "name": "stdout",
     "output_type": "stream",
     "text": [
      "Accept the null hypothesis\n"
     ]
    }
   ],
   "source": [
    "# H0 -> Col1 and Col2 are not correlated\n",
    "# Ha -> Col1 and Col2 are correlated\n",
    "\n",
    "stats, p_val = ttest_ind(df[\"Col_4\"], df[\"Col_5\"])\n",
    "\n",
    "alpha = 0.05\n",
    "\n",
    "if p_val>alpha:\n",
    "    print(\"Accept the null hypothesis\")\n",
    "else:\n",
    "    print(\"Reject the null hypothesis\")"
   ]
  },
  {
   "cell_type": "code",
   "execution_count": 28,
   "id": "14dbf6df-3709-47fa-aa73-6e8786194588",
   "metadata": {},
   "outputs": [],
   "source": [
    "# range(1,100) - Numerical / Sequential / Regression / Continue\n",
    "# cat[\"M\", \"F\"] - Categorical / Classified / Descrete\n",
    "# dice[1, 2, 3, 4, 5, 6] - Categorical"
   ]
  },
  {
   "cell_type": "code",
   "execution_count": 29,
   "id": "e148ab41-4be7-4683-a708-aa24dc939a11",
   "metadata": {},
   "outputs": [
    {
     "data": {
      "text/html": [
       "<div>\n",
       "<style scoped>\n",
       "    .dataframe tbody tr th:only-of-type {\n",
       "        vertical-align: middle;\n",
       "    }\n",
       "\n",
       "    .dataframe tbody tr th {\n",
       "        vertical-align: top;\n",
       "    }\n",
       "\n",
       "    .dataframe thead th {\n",
       "        text-align: right;\n",
       "    }\n",
       "</style>\n",
       "<table border=\"1\" class=\"dataframe\">\n",
       "  <thead>\n",
       "    <tr style=\"text-align: right;\">\n",
       "      <th></th>\n",
       "      <th>User ID</th>\n",
       "      <th>Subscription Type</th>\n",
       "      <th>Monthly Revenue</th>\n",
       "      <th>Join Date</th>\n",
       "      <th>Last Payment Date</th>\n",
       "      <th>Country</th>\n",
       "      <th>Age</th>\n",
       "      <th>Gender</th>\n",
       "      <th>Device</th>\n",
       "      <th>Plan Duration</th>\n",
       "    </tr>\n",
       "  </thead>\n",
       "  <tbody>\n",
       "    <tr>\n",
       "      <th>0</th>\n",
       "      <td>1</td>\n",
       "      <td>Basic</td>\n",
       "      <td>10</td>\n",
       "      <td>15-01-22</td>\n",
       "      <td>10-06-23</td>\n",
       "      <td>United States</td>\n",
       "      <td>28</td>\n",
       "      <td>Male</td>\n",
       "      <td>Smartphone</td>\n",
       "      <td>1 Month</td>\n",
       "    </tr>\n",
       "    <tr>\n",
       "      <th>1</th>\n",
       "      <td>2</td>\n",
       "      <td>Premium</td>\n",
       "      <td>15</td>\n",
       "      <td>05-09-21</td>\n",
       "      <td>22-06-23</td>\n",
       "      <td>Canada</td>\n",
       "      <td>35</td>\n",
       "      <td>Female</td>\n",
       "      <td>Tablet</td>\n",
       "      <td>1 Month</td>\n",
       "    </tr>\n",
       "    <tr>\n",
       "      <th>2</th>\n",
       "      <td>3</td>\n",
       "      <td>Standard</td>\n",
       "      <td>12</td>\n",
       "      <td>28-02-23</td>\n",
       "      <td>27-06-23</td>\n",
       "      <td>United Kingdom</td>\n",
       "      <td>42</td>\n",
       "      <td>Male</td>\n",
       "      <td>Smart TV</td>\n",
       "      <td>1 Month</td>\n",
       "    </tr>\n",
       "    <tr>\n",
       "      <th>3</th>\n",
       "      <td>4</td>\n",
       "      <td>Standard</td>\n",
       "      <td>12</td>\n",
       "      <td>10-07-22</td>\n",
       "      <td>26-06-23</td>\n",
       "      <td>Australia</td>\n",
       "      <td>51</td>\n",
       "      <td>Female</td>\n",
       "      <td>Laptop</td>\n",
       "      <td>1 Month</td>\n",
       "    </tr>\n",
       "    <tr>\n",
       "      <th>4</th>\n",
       "      <td>5</td>\n",
       "      <td>Basic</td>\n",
       "      <td>10</td>\n",
       "      <td>01-05-23</td>\n",
       "      <td>28-06-23</td>\n",
       "      <td>Germany</td>\n",
       "      <td>33</td>\n",
       "      <td>Male</td>\n",
       "      <td>Smartphone</td>\n",
       "      <td>1 Month</td>\n",
       "    </tr>\n",
       "  </tbody>\n",
       "</table>\n",
       "</div>"
      ],
      "text/plain": [
       "   User ID Subscription Type  Monthly Revenue Join Date Last Payment Date  \\\n",
       "0        1             Basic               10  15-01-22          10-06-23   \n",
       "1        2           Premium               15  05-09-21          22-06-23   \n",
       "2        3          Standard               12  28-02-23          27-06-23   \n",
       "3        4          Standard               12  10-07-22          26-06-23   \n",
       "4        5             Basic               10  01-05-23          28-06-23   \n",
       "\n",
       "          Country  Age  Gender      Device Plan Duration  \n",
       "0   United States   28    Male  Smartphone       1 Month  \n",
       "1          Canada   35  Female      Tablet       1 Month  \n",
       "2  United Kingdom   42    Male    Smart TV       1 Month  \n",
       "3       Australia   51  Female      Laptop       1 Month  \n",
       "4         Germany   33    Male  Smartphone       1 Month  "
      ]
     },
     "execution_count": 29,
     "metadata": {},
     "output_type": "execute_result"
    }
   ],
   "source": [
    "net = pd.read_csv(\"Netflix Userbase.csv\")\n",
    "net.head()"
   ]
  },
  {
   "cell_type": "code",
   "execution_count": 30,
   "id": "338ac184-31b3-4b15-af88-8a4882b11233",
   "metadata": {},
   "outputs": [],
   "source": [
    "new_net = net[[\"Subscription Type\",\"Gender\"]]"
   ]
  },
  {
   "cell_type": "code",
   "execution_count": 31,
   "id": "25cfe6de-4ad0-40f3-8e09-0106cafa7ed2",
   "metadata": {
    "scrolled": true
   },
   "outputs": [
    {
     "data": {
      "text/html": [
       "<div>\n",
       "<style scoped>\n",
       "    .dataframe tbody tr th:only-of-type {\n",
       "        vertical-align: middle;\n",
       "    }\n",
       "\n",
       "    .dataframe tbody tr th {\n",
       "        vertical-align: top;\n",
       "    }\n",
       "\n",
       "    .dataframe thead th {\n",
       "        text-align: right;\n",
       "    }\n",
       "</style>\n",
       "<table border=\"1\" class=\"dataframe\">\n",
       "  <thead>\n",
       "    <tr style=\"text-align: right;\">\n",
       "      <th></th>\n",
       "      <th>Subscription Type</th>\n",
       "      <th>Gender</th>\n",
       "    </tr>\n",
       "  </thead>\n",
       "  <tbody>\n",
       "    <tr>\n",
       "      <th>0</th>\n",
       "      <td>Basic</td>\n",
       "      <td>Male</td>\n",
       "    </tr>\n",
       "    <tr>\n",
       "      <th>1</th>\n",
       "      <td>Premium</td>\n",
       "      <td>Female</td>\n",
       "    </tr>\n",
       "    <tr>\n",
       "      <th>2</th>\n",
       "      <td>Standard</td>\n",
       "      <td>Male</td>\n",
       "    </tr>\n",
       "    <tr>\n",
       "      <th>3</th>\n",
       "      <td>Standard</td>\n",
       "      <td>Female</td>\n",
       "    </tr>\n",
       "    <tr>\n",
       "      <th>4</th>\n",
       "      <td>Basic</td>\n",
       "      <td>Male</td>\n",
       "    </tr>\n",
       "    <tr>\n",
       "      <th>...</th>\n",
       "      <td>...</td>\n",
       "      <td>...</td>\n",
       "    </tr>\n",
       "    <tr>\n",
       "      <th>2495</th>\n",
       "      <td>Premium</td>\n",
       "      <td>Female</td>\n",
       "    </tr>\n",
       "    <tr>\n",
       "      <th>2496</th>\n",
       "      <td>Basic</td>\n",
       "      <td>Female</td>\n",
       "    </tr>\n",
       "    <tr>\n",
       "      <th>2497</th>\n",
       "      <td>Standard</td>\n",
       "      <td>Male</td>\n",
       "    </tr>\n",
       "    <tr>\n",
       "      <th>2498</th>\n",
       "      <td>Standard</td>\n",
       "      <td>Female</td>\n",
       "    </tr>\n",
       "    <tr>\n",
       "      <th>2499</th>\n",
       "      <td>Basic</td>\n",
       "      <td>Female</td>\n",
       "    </tr>\n",
       "  </tbody>\n",
       "</table>\n",
       "<p>2500 rows × 2 columns</p>\n",
       "</div>"
      ],
      "text/plain": [
       "     Subscription Type  Gender\n",
       "0                Basic    Male\n",
       "1              Premium  Female\n",
       "2             Standard    Male\n",
       "3             Standard  Female\n",
       "4                Basic    Male\n",
       "...                ...     ...\n",
       "2495           Premium  Female\n",
       "2496             Basic  Female\n",
       "2497          Standard    Male\n",
       "2498          Standard  Female\n",
       "2499             Basic  Female\n",
       "\n",
       "[2500 rows x 2 columns]"
      ]
     },
     "execution_count": 31,
     "metadata": {},
     "output_type": "execute_result"
    }
   ],
   "source": [
    "new_net"
   ]
  },
  {
   "cell_type": "code",
   "execution_count": 32,
   "id": "052c9929-6481-45e3-85d5-677afcd921bc",
   "metadata": {},
   "outputs": [
    {
     "data": {
      "text/html": [
       "<div>\n",
       "<style scoped>\n",
       "    .dataframe tbody tr th:only-of-type {\n",
       "        vertical-align: middle;\n",
       "    }\n",
       "\n",
       "    .dataframe tbody tr th {\n",
       "        vertical-align: top;\n",
       "    }\n",
       "\n",
       "    .dataframe thead tr th {\n",
       "        text-align: left;\n",
       "    }\n",
       "\n",
       "    .dataframe thead tr:last-of-type th {\n",
       "        text-align: right;\n",
       "    }\n",
       "</style>\n",
       "<table border=\"1\" class=\"dataframe\">\n",
       "  <thead>\n",
       "    <tr>\n",
       "      <th>Gender</th>\n",
       "    </tr>\n",
       "  </thead>\n",
       "  <tbody>\n",
       "    <tr>\n",
       "      <th>Female</th>\n",
       "    </tr>\n",
       "    <tr>\n",
       "      <th>Male</th>\n",
       "    </tr>\n",
       "  </tbody>\n",
       "</table>\n",
       "</div>"
      ],
      "text/plain": [
       "Empty DataFrame\n",
       "Columns: []\n",
       "Index: [Female, Male]"
      ]
     },
     "execution_count": 32,
     "metadata": {},
     "output_type": "execute_result"
    }
   ],
   "source": [
    "pd.pivot_table(new_net, columns=\"Subscription Type\", index=\"Gender\", aggfunc=\"sum\")"
   ]
  },
  {
   "cell_type": "code",
   "execution_count": null,
   "id": "f81d8ec1-c4a1-4df1-b29c-2aa84e84da21",
   "metadata": {},
   "outputs": [],
   "source": []
  }
 ],
 "metadata": {
  "kernelspec": {
   "display_name": "Python 3 (ipykernel)",
   "language": "python",
   "name": "python3"
  },
  "language_info": {
   "codemirror_mode": {
    "name": "ipython",
    "version": 3
   },
   "file_extension": ".py",
   "mimetype": "text/x-python",
   "name": "python",
   "nbconvert_exporter": "python",
   "pygments_lexer": "ipython3",
   "version": "3.12.0"
  }
 },
 "nbformat": 4,
 "nbformat_minor": 5
}
