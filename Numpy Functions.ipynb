{
 "cells": [
  {
   "cell_type": "code",
   "execution_count": 1,
   "id": "e543e2aa-2b03-4bd2-a918-c549e7d80cdb",
   "metadata": {},
   "outputs": [],
   "source": [
    "import numpy as np\n",
    "import matplotlib.pyplot as plt"
   ]
  },
  {
   "cell_type": "code",
   "execution_count": 2,
   "id": "54103e2d-786d-41d9-a7b9-a7d1533294ed",
   "metadata": {},
   "outputs": [
    {
     "data": {
      "text/plain": [
       "6"
      ]
     },
     "execution_count": 2,
     "metadata": {},
     "output_type": "execute_result"
    }
   ],
   "source": [
    "#(Till that no it will give random no)\n",
    "arr1 = np.random.randint(12);\n",
    "arr1"
   ]
  },
  {
   "cell_type": "code",
   "execution_count": 3,
   "id": "a30c13c1-b0f0-4ec6-9bdf-9e89e175102e",
   "metadata": {},
   "outputs": [
    {
     "data": {
      "text/plain": [
       "array([ 9, 10, 11,  5,  9,  6, 11,  5,  5, 10])"
      ]
     },
     "execution_count": 3,
     "metadata": {},
     "output_type": "execute_result"
    }
   ],
   "source": [
    "#(Highest no,Lowest no,No. of obsn)\n",
    "arr2 = np.random.randint(5,12,10)\n",
    "arr2"
   ]
  },
  {
   "cell_type": "code",
   "execution_count": 4,
   "id": "7838ec99-f4c5-4676-bbc6-e7fb1365c5ac",
   "metadata": {},
   "outputs": [
    {
     "data": {
      "text/plain": [
       "array([0.13042918, 0.65291051, 0.30088445, 0.69564532, 0.65792352])"
      ]
     },
     "execution_count": 4,
     "metadata": {},
     "output_type": "execute_result"
    }
   ],
   "source": [
    "#Random no of float (Size)\n",
    "arr3 = np.random.rand(5)\n",
    "arr3"
   ]
  },
  {
   "cell_type": "code",
   "execution_count": 5,
   "id": "8850f90e-44c9-46ec-be9b-222b7806c090",
   "metadata": {},
   "outputs": [
    {
     "data": {
      "text/plain": [
       "array([10.49551463,  9.84186314,  7.07614121, ..., 10.06310118,\n",
       "        7.57537229,  7.66930035])"
      ]
     },
     "execution_count": 5,
     "metadata": {},
     "output_type": "execute_result"
    }
   ],
   "source": [
    "#It will be normally distributed(mean,sd,No. of obsn)\n",
    "arr4 = np.random.normal(8,2,2400)\n",
    "arr4"
   ]
  },
  {
   "cell_type": "code",
   "execution_count": 6,
   "id": "e507d695-4ef8-4b34-ad9b-6c205bb67af6",
   "metadata": {},
   "outputs": [
    {
     "data": {
      "image/png": "[encoded data removed]",
      "text/plain": [
       "<Figure size 640x480 with 1 Axes>"
      ]
     },
     "metadata": {},
     "output_type": "display_data"
    }
   ],
   "source": [
    "plt.hist(arr4,bins = 100)\n",
    "plt.show()"
   ]
  },
  {
   "cell_type": "code",
   "execution_count": 7,
   "id": "6648bd75-9a01-42a3-9bf0-073c5750acfd",
   "metadata": {},
   "outputs": [
    {
     "data": {
      "text/plain": [
       "8.001057933581063"
      ]
     },
     "execution_count": 7,
     "metadata": {},
     "output_type": "execute_result"
    }
   ],
   "source": [
    "arr4.mean()"
   ]
  },
  {
   "cell_type": "code",
   "execution_count": 8,
   "id": "ac0b5dc3-9344-4596-a1a2-4e0374db6d75",
   "metadata": {},
   "outputs": [
    {
     "data": {
      "text/plain": [
       "1.9691369499020923"
      ]
     },
     "execution_count": 8,
     "metadata": {},
     "output_type": "execute_result"
    }
   ],
   "source": [
    "arr4.std()"
   ]
  },
  {
   "cell_type": "code",
   "execution_count": 9,
   "id": "6e6ec449-e32a-4492-ac53-0119f519ee7a",
   "metadata": {},
   "outputs": [
    {
     "data": {
      "text/plain": [
       "array([  1,   2,   3,   4,   5,   6,   7,   8,   9,  10,  11,  12,  13,\n",
       "        14,  15,  16,  17,  18,  19,  20,  21,  22,  23,  24,  25,  26,\n",
       "        27,  28,  29,  30,  31,  32,  33,  34,  35,  36,  37,  38,  39,\n",
       "        40,  41,  42,  43,  44,  45,  46,  47,  48,  49,  50,  51,  52,\n",
       "        53,  54,  55,  56,  57,  58,  59,  60,  61,  62,  63,  64,  65,\n",
       "        66,  67,  68,  69,  70,  71,  72,  73,  74,  75,  76,  77,  78,\n",
       "        79,  80,  81,  82,  83,  84,  85,  86,  87,  88,  89,  90,  91,\n",
       "        92,  93,  94,  95,  96,  97,  98,  99, 100])"
      ]
     },
     "execution_count": 9,
     "metadata": {},
     "output_type": "execute_result"
    }
   ],
   "source": [
    "arr5 = np.arange(1,101)\n",
    "arr5"
   ]
  },
  {
   "cell_type": "code",
   "execution_count": 10,
   "id": "92240b1c-85d6-4492-aaea-97dced008bd0",
   "metadata": {},
   "outputs": [
    {
     "data": {
      "text/plain": [
       "array([[  1,   2,   3,   4,   5,   6,   7,   8,   9,  10],\n",
       "       [ 11,  12,  13,  14,  15,  16,  17,  18,  19,  20],\n",
       "       [ 21,  22,  23,  24,  25,  26,  27,  28,  29,  30],\n",
       "       [ 31,  32,  33,  34,  35,  36,  37,  38,  39,  40],\n",
       "       [ 41,  42,  43,  44,  45,  46,  47,  48,  49,  50],\n",
       "       [ 51,  52,  53,  54,  55,  56,  57,  58,  59,  60],\n",
       "       [ 61,  62,  63,  64,  65,  66,  67,  68,  69,  70],\n",
       "       [ 71,  72,  73,  74,  75,  76,  77,  78,  79,  80],\n",
       "       [ 81,  82,  83,  84,  85,  86,  87,  88,  89,  90],\n",
       "       [ 91,  92,  93,  94,  95,  96,  97,  98,  99, 100]])"
      ]
     },
     "execution_count": 10,
     "metadata": {},
     "output_type": "execute_result"
    }
   ],
   "source": [
    "#Reshape(rows,columns)\n",
    "arr6 = arr5.reshape(10,10)\n",
    "arr6"
   ]
  },
  {
   "cell_type": "code",
   "execution_count": 11,
   "id": "637aae6a-1af4-441e-a956-44d4fdd6c942",
   "metadata": {},
   "outputs": [
    {
     "name": "stdout",
     "output_type": "stream",
     "text": [
      "Size 100\n",
      "Shape (10, 10)\n",
      "Dimension 2\n",
      "Datatype int32\n",
      "Datatype (name) int32\n"
     ]
    }
   ],
   "source": [
    "# No of element in array \n",
    "print(\"Size\",arr6.size)\n",
    "\n",
    "# No of rows and columns in array\n",
    "print(\"Shape\",arr6.shape)\n",
    "\n",
    "# Dimension of an array\n",
    "print(\"Dimension\",arr6.ndim)\n",
    "\n",
    "# Datatype of an array\n",
    "print(\"Datatype\",arr6.dtype)\n",
    "print(\"Datatype (name)\",arr6.dtype.name)"
   ]
  },
  {
   "cell_type": "code",
   "execution_count": 12,
   "id": "cbe83148-79d9-46fb-bf54-6ea66d8ab38d",
   "metadata": {},
   "outputs": [
    {
     "data": {
      "text/plain": [
       "array([4, 5, 3, 1, 2, 5, 3, 4, 2, 4])"
      ]
     },
     "execution_count": 12,
     "metadata": {},
     "output_type": "execute_result"
    }
   ],
   "source": [
    "arr7 = np.random.choice([1,2,3,4,5,6],10)\n",
    "arr7"
   ]
  },
  {
   "cell_type": "code",
   "execution_count": 13,
   "id": "3636a1ed-fc01-4bd2-a570-2648267e8178",
   "metadata": {},
   "outputs": [
    {
     "data": {
      "text/plain": [
       "array([ 0,  1,  2,  3,  4,  5,  6,  7,  8,  9, 10, 11, 12, 13, 14, 15, 16,\n",
       "       17, 18, 19, 20, 21, 22, 23])"
      ]
     },
     "execution_count": 13,
     "metadata": {},
     "output_type": "execute_result"
    }
   ],
   "source": [
    "arr8 = np.arange(24)\n",
    "arr8"
   ]
  },
  {
   "cell_type": "code",
   "execution_count": 14,
   "id": "63528f66-fcbd-4f59-aeac-f6230d605506",
   "metadata": {},
   "outputs": [
    {
     "data": {
      "text/plain": [
       "array([[ 0,  1,  2,  3,  4,  5],\n",
       "       [ 6,  7,  8,  9, 10, 11],\n",
       "       [12, 13, 14, 15, 16, 17],\n",
       "       [18, 19, 20, 21, 22, 23]])"
      ]
     },
     "execution_count": 14,
     "metadata": {},
     "output_type": "execute_result"
    }
   ],
   "source": [
    "arr8.reshape(4,6)"
   ]
  },
  {
   "cell_type": "code",
   "execution_count": 15,
   "id": "5b4d9c6d-64ef-4d84-bd82-eae86d19a7bc",
   "metadata": {},
   "outputs": [
    {
     "data": {
      "text/plain": [
       "1"
      ]
     },
     "execution_count": 15,
     "metadata": {},
     "output_type": "execute_result"
    }
   ],
   "source": [
    "arr8.ndim "
   ]
  },
  {
   "cell_type": "code",
   "execution_count": 16,
   "id": "0f11fe15-8273-4bbc-8e6a-5e5a23bf3a0e",
   "metadata": {},
   "outputs": [
    {
     "data": {
      "text/plain": [
       "2"
      ]
     },
     "execution_count": 16,
     "metadata": {},
     "output_type": "execute_result"
    }
   ],
   "source": [
    "arr8.reshape(4,6).ndim"
   ]
  },
  {
   "cell_type": "code",
   "execution_count": 17,
   "id": "3dc5b91c-144b-46ea-b25c-052157d48d6c",
   "metadata": {},
   "outputs": [
    {
     "data": {
      "text/plain": [
       "array([[[ 0,  1,  2,  3],\n",
       "        [ 4,  5,  6,  7]],\n",
       "\n",
       "       [[ 8,  9, 10, 11],\n",
       "        [12, 13, 14, 15]],\n",
       "\n",
       "       [[16, 17, 18, 19],\n",
       "        [20, 21, 22, 23]]])"
      ]
     },
     "execution_count": 17,
     "metadata": {},
     "output_type": "execute_result"
    }
   ],
   "source": [
    "arr8.reshape(3,2,4)"
   ]
  },
  {
   "cell_type": "code",
   "execution_count": 18,
   "id": "dee9a976-a6e1-4038-817f-ea758e86c669",
   "metadata": {},
   "outputs": [
    {
     "data": {
      "text/plain": [
       "3"
      ]
     },
     "execution_count": 18,
     "metadata": {},
     "output_type": "execute_result"
    }
   ],
   "source": [
    "arr8.reshape(3,2,4).ndim"
   ]
  },
  {
   "cell_type": "code",
   "execution_count": 19,
   "id": "7aa4b5bc-0950-40d3-b20e-f761c9dbdf48",
   "metadata": {},
   "outputs": [
    {
     "data": {
      "text/plain": [
       "array([[[[ 0,  1],\n",
       "         [ 2,  3]],\n",
       "\n",
       "        [[ 4,  5],\n",
       "         [ 6,  7]]],\n",
       "\n",
       "\n",
       "       [[[ 8,  9],\n",
       "         [10, 11]],\n",
       "\n",
       "        [[12, 13],\n",
       "         [14, 15]]],\n",
       "\n",
       "\n",
       "       [[[16, 17],\n",
       "         [18, 19]],\n",
       "\n",
       "        [[20, 21],\n",
       "         [22, 23]]]])"
      ]
     },
     "execution_count": 19,
     "metadata": {},
     "output_type": "execute_result"
    }
   ],
   "source": [
    "arr8.reshape(3,2,2,2)"
   ]
  },
  {
   "cell_type": "code",
   "execution_count": 20,
   "id": "5dcfd046-9734-437f-9bd2-b8e73ba1b19d",
   "metadata": {},
   "outputs": [
    {
     "data": {
      "text/plain": [
       "4"
      ]
     },
     "execution_count": 20,
     "metadata": {},
     "output_type": "execute_result"
    }
   ],
   "source": [
    "arr8.reshape(3,2,2,2).ndim"
   ]
  },
  {
   "cell_type": "code",
   "execution_count": 21,
   "id": "1e144d47-900f-4380-9293-88db7c360070",
   "metadata": {},
   "outputs": [
    {
     "data": {
      "text/plain": [
       "array([[ 0,  1,  2,  3],\n",
       "       [ 4,  5,  6,  7],\n",
       "       [ 8,  9, 10, 11],\n",
       "       [12, 13, 14, 15],\n",
       "       [16, 17, 18, 19],\n",
       "       [20, 21, 22, 23]])"
      ]
     },
     "execution_count": 21,
     "metadata": {},
     "output_type": "execute_result"
    }
   ],
   "source": [
    "arr8.resize(6,4)\n",
    "arr8"
   ]
  },
  {
   "cell_type": "code",
   "execution_count": 22,
   "id": "9643d2a5-4d6f-4a72-bc10-4d63bccb8a9d",
   "metadata": {},
   "outputs": [
    {
     "data": {
      "text/plain": [
       "array([1, 2, 3, 4])"
      ]
     },
     "execution_count": 22,
     "metadata": {},
     "output_type": "execute_result"
    }
   ],
   "source": [
    "arr9 = np.arange(1,5)\n",
    "arr9"
   ]
  },
  {
   "cell_type": "code",
   "execution_count": 23,
   "id": "03690117-1f9f-4e8f-8841-d94ac9f6516c",
   "metadata": {},
   "outputs": [
    {
     "data": {
      "text/plain": [
       "array([1, 1, 1, 1, 1, 2, 2, 2, 2, 2, 3, 3, 3, 3, 3, 4, 4, 4, 4, 4])"
      ]
     },
     "execution_count": 23,
     "metadata": {},
     "output_type": "execute_result"
    }
   ],
   "source": [
    "arr9.repeat(5)"
   ]
  },
  {
   "cell_type": "code",
   "execution_count": 24,
   "id": "dc5a7778-deb5-414a-8be2-cc1635dd2e29",
   "metadata": {},
   "outputs": [
    {
     "data": {
      "text/plain": [
       "array([1, 1, 1, 2, 2, 2, 2, 2, 3, 3, 4, 4, 4])"
      ]
     },
     "execution_count": 24,
     "metadata": {},
     "output_type": "execute_result"
    }
   ],
   "source": [
    "arr9.repeat([3,5,2,3])"
   ]
  },
  {
   "cell_type": "code",
   "execution_count": 25,
   "id": "d3085b50-af5a-4df9-bc5f-3834b01228e4",
   "metadata": {},
   "outputs": [
    {
     "data": {
      "text/plain": [
       "array([[6, 8],\n",
       "       [7, 9]])"
      ]
     },
     "execution_count": 25,
     "metadata": {},
     "output_type": "execute_result"
    }
   ],
   "source": [
    "arr9 = np.random.randint(1,5,4).reshape(2,2)\n",
    "arr9\n",
    "arr10 = np.random.randint(5,10,4).reshape(2,2)\n",
    "arr10"
   ]
  },
  {
   "cell_type": "code",
   "execution_count": 26,
   "id": "d8740ed4-b34b-4ce8-b787-7b88aa3ef0cc",
   "metadata": {},
   "outputs": [
    {
     "data": {
      "text/plain": [
       "(array([[3, 4],\n",
       "        [1, 3]]),\n",
       " array([[6, 8],\n",
       "        [7, 9]]))"
      ]
     },
     "execution_count": 26,
     "metadata": {},
     "output_type": "execute_result"
    }
   ],
   "source": [
    "arr9,arr10"
   ]
  },
  {
   "cell_type": "code",
   "execution_count": 27,
   "id": "89ebffd0-f308-482f-b6a2-19e35bc03085",
   "metadata": {},
   "outputs": [
    {
     "data": {
      "text/plain": [
       "array([[ 9, 12],\n",
       "       [ 8, 12]])"
      ]
     },
     "execution_count": 27,
     "metadata": {},
     "output_type": "execute_result"
    }
   ],
   "source": [
    "arr9 + arr10"
   ]
  },
  {
   "cell_type": "code",
   "execution_count": 28,
   "id": "419e3b18-b9dd-44fa-90ff-9daae2668b04",
   "metadata": {},
   "outputs": [
    {
     "data": {
      "text/plain": [
       "array([[-3, -4],\n",
       "       [-6, -6]])"
      ]
     },
     "execution_count": 28,
     "metadata": {},
     "output_type": "execute_result"
    }
   ],
   "source": [
    "arr9 - arr10"
   ]
  },
  {
   "cell_type": "code",
   "execution_count": 29,
   "id": "6126a0fa-067a-4131-8fad-622a947d03f8",
   "metadata": {},
   "outputs": [
    {
     "data": {
      "text/plain": [
       "array([[18, 32],\n",
       "       [ 7, 27]])"
      ]
     },
     "execution_count": 29,
     "metadata": {},
     "output_type": "execute_result"
    }
   ],
   "source": [
    "arr9 * arr10"
   ]
  },
  {
   "cell_type": "code",
   "execution_count": 30,
   "id": "06c429e6-7211-4117-a1d0-b797709aa2ec",
   "metadata": {},
   "outputs": [
    {
     "data": {
      "text/plain": [
       "array([[0.5       , 0.5       ],\n",
       "       [0.14285714, 0.33333333]])"
      ]
     },
     "execution_count": 30,
     "metadata": {},
     "output_type": "execute_result"
    }
   ],
   "source": [
    "arr9 / arr10"
   ]
  },
  {
   "cell_type": "code",
   "execution_count": 31,
   "id": "cdc2fa81-91b8-4973-a646-d94b05aebdde",
   "metadata": {},
   "outputs": [
    {
     "data": {
      "text/plain": [
       "array([[46, 60],\n",
       "       [27, 35]])"
      ]
     },
     "execution_count": 31,
     "metadata": {},
     "output_type": "execute_result"
    }
   ],
   "source": [
    "np.dot(arr9,arr10)"
   ]
  },
  {
   "cell_type": "code",
   "execution_count": 32,
   "id": "57e45ad7-1a49-4fa3-b59c-3f907fc60c44",
   "metadata": {},
   "outputs": [
    {
     "data": {
      "text/plain": [
       "(array([[3, 4],\n",
       "        [1, 3]]),\n",
       " array([[6, 8],\n",
       "        [7, 9]]))"
      ]
     },
     "execution_count": 32,
     "metadata": {},
     "output_type": "execute_result"
    }
   ],
   "source": [
    "arr9,arr10"
   ]
  },
  {
   "cell_type": "code",
   "execution_count": 33,
   "id": "f88af89a-87b0-4ca6-87cc-a43a0d26b6c6",
   "metadata": {},
   "outputs": [
    {
     "data": {
      "text/plain": [
       "3"
      ]
     },
     "execution_count": 33,
     "metadata": {},
     "output_type": "execute_result"
    }
   ],
   "source": [
    "# Slicing\n",
    "arr9[0,0]"
   ]
  },
  {
   "cell_type": "code",
   "execution_count": 34,
   "id": "7d53e77e-d9d6-4179-b06f-0b0bbaba5fda",
   "metadata": {},
   "outputs": [
    {
     "data": {
      "text/plain": [
       "4"
      ]
     },
     "execution_count": 34,
     "metadata": {},
     "output_type": "execute_result"
    }
   ],
   "source": [
    "arr9[0,1]"
   ]
  },
  {
   "cell_type": "code",
   "execution_count": 35,
   "id": "905ece09-8e13-475e-9c38-457dbfb029da",
   "metadata": {},
   "outputs": [
    {
     "data": {
      "text/plain": [
       "1"
      ]
     },
     "execution_count": 35,
     "metadata": {},
     "output_type": "execute_result"
    }
   ],
   "source": [
    "arr9[1,0]"
   ]
  },
  {
   "cell_type": "code",
   "execution_count": 36,
   "id": "7d51fa59-20a0-425f-878d-c9ac1294bb1a",
   "metadata": {},
   "outputs": [
    {
     "data": {
      "text/plain": [
       "3"
      ]
     },
     "execution_count": 36,
     "metadata": {},
     "output_type": "execute_result"
    }
   ],
   "source": [
    "arr9[1,1]"
   ]
  },
  {
   "cell_type": "code",
   "execution_count": 37,
   "id": "5fb2de34-364c-416d-9081-d4a8fcb27650",
   "metadata": {},
   "outputs": [
    {
     "data": {
      "text/plain": [
       "2.75"
      ]
     },
     "execution_count": 37,
     "metadata": {},
     "output_type": "execute_result"
    }
   ],
   "source": [
    "arr9.mean()     #Average"
   ]
  },
  {
   "cell_type": "code",
   "execution_count": 38,
   "id": "6a8172b4-780e-47ba-af8b-4645b6d430db",
   "metadata": {},
   "outputs": [
    {
     "data": {
      "text/plain": [
       "1.0897247358851685"
      ]
     },
     "execution_count": 38,
     "metadata": {},
     "output_type": "execute_result"
    }
   ],
   "source": [
    "arr9.std()      #standard deviation"
   ]
  },
  {
   "cell_type": "code",
   "execution_count": 39,
   "id": "fcc15713-70e6-44b5-b9be-212a6864feb9",
   "metadata": {},
   "outputs": [
    {
     "data": {
      "text/plain": [
       "1"
      ]
     },
     "execution_count": 39,
     "metadata": {},
     "output_type": "execute_result"
    }
   ],
   "source": [
    "arr9.min()      #minimum"
   ]
  },
  {
   "cell_type": "code",
   "execution_count": 40,
   "id": "1b1a8a77-ec76-4c4c-ac55-6015dec74965",
   "metadata": {},
   "outputs": [
    {
     "data": {
      "text/plain": [
       "4"
      ]
     },
     "execution_count": 40,
     "metadata": {},
     "output_type": "execute_result"
    }
   ],
   "source": [
    "arr9.max()      #maximum"
   ]
  },
  {
   "cell_type": "code",
   "execution_count": 41,
   "id": "cfa77009-1759-45d5-ba40-8f0dec6307bd",
   "metadata": {},
   "outputs": [
    {
     "data": {
      "text/plain": [
       "array([[3., 4.],\n",
       "       [1., 3.]])"
      ]
     },
     "execution_count": 41,
     "metadata": {},
     "output_type": "execute_result"
    }
   ],
   "source": [
    "arr9.astype(\"float\")"
   ]
  },
  {
   "cell_type": "code",
   "execution_count": 42,
   "id": "2b52b90c-1418-4a6e-9bc8-5d7b9101cf0f",
   "metadata": {},
   "outputs": [
    {
     "data": {
      "text/plain": [
       "dtype('int32')"
      ]
     },
     "execution_count": 42,
     "metadata": {},
     "output_type": "execute_result"
    }
   ],
   "source": [
    "arr9.dtype"
   ]
  },
  {
   "cell_type": "code",
   "execution_count": 43,
   "id": "505805f0-1e95-41c2-9d12-3a3ec10a6377",
   "metadata": {},
   "outputs": [
    {
     "data": {
      "text/plain": [
       "array([1.        , 1.21052632, 1.42105263, 1.63157895, 1.84210526,\n",
       "       2.05263158, 2.26315789, 2.47368421, 2.68421053, 2.89473684,\n",
       "       3.10526316, 3.31578947, 3.52631579, 3.73684211, 3.94736842,\n",
       "       4.15789474, 4.36842105, 4.57894737, 4.78947368, 5.        ])"
      ]
     },
     "execution_count": 43,
     "metadata": {},
     "output_type": "execute_result"
    }
   ],
   "source": [
    "arr10 = np.linspace(1,5,20)\n",
    "arr10"
   ]
  },
  {
   "cell_type": "code",
   "execution_count": 44,
   "id": "4323f69d-db2e-4324-9c00-978e68a0d452",
   "metadata": {},
   "outputs": [
    {
     "data": {
      "text/plain": [
       "array([-1.        , -0.95918367, -0.91836735, -0.87755102, -0.83673469,\n",
       "       -0.79591837, -0.75510204, -0.71428571, -0.67346939, -0.63265306,\n",
       "       -0.59183673, -0.55102041, -0.51020408, -0.46938776, -0.42857143,\n",
       "       -0.3877551 , -0.34693878, -0.30612245, -0.26530612, -0.2244898 ,\n",
       "       -0.18367347, -0.14285714, -0.10204082, -0.06122449, -0.02040816,\n",
       "        0.02040816,  0.06122449,  0.10204082,  0.14285714,  0.18367347,\n",
       "        0.2244898 ,  0.26530612,  0.30612245,  0.34693878,  0.3877551 ,\n",
       "        0.42857143,  0.46938776,  0.51020408,  0.55102041,  0.59183673,\n",
       "        0.63265306,  0.67346939,  0.71428571,  0.75510204,  0.79591837,\n",
       "        0.83673469,  0.87755102,  0.91836735,  0.95918367,  1.        ])"
      ]
     },
     "execution_count": 44,
     "metadata": {},
     "output_type": "execute_result"
    }
   ],
   "source": [
    "arr11 = np.linspace(-1,1,50)\n",
    "arr11"
   ]
  },
  {
   "cell_type": "code",
   "execution_count": 45,
   "id": "11621847-d6f5-48c4-aa10-ba08cb16c81e",
   "metadata": {},
   "outputs": [
    {
     "data": {
      "image/png": "[encoded data removed]",
      "text/plain": [
       "<Figure size 640x480 with 1 Axes>"
      ]
     },
     "metadata": {},
     "output_type": "display_data"
    }
   ],
   "source": [
    "plt.plot(np.square(arr11))\n",
    "plt.scatter(range(50),np.square(arr11),color=\"red\",marker=\"*\")\n",
    "plt.show()"
   ]
  },
  {
   "cell_type": "code",
   "execution_count": 46,
   "id": "9232f6db-3505-4b7e-8509-0c1b83c84bd6",
   "metadata": {},
   "outputs": [
    {
     "data": {
      "image/png": "[encoded data removed]",
      "text/plain": [
       "<Figure size 640x480 with 1 Axes>"
      ]
     },
     "metadata": {},
     "output_type": "display_data"
    }
   ],
   "source": [
    "#OR dont want to use scatter then\n",
    "plt.plot(np.square(arr11),\"r*\")\n",
    "plt.show()"
   ]
  },
  {
   "cell_type": "code",
   "execution_count": 47,
   "id": "94f4480a-d8f0-412d-be7f-3c0ebce2c7c0",
   "metadata": {},
   "outputs": [
    {
     "data": {
      "text/plain": [
       "array([['id', 'name', 'company', 'salary'],\n",
       "       ['1', 'Sachin', 'TCS', '2300'],\n",
       "       ['2', 'Rohit', 'Infy', '3200'],\n",
       "       ['3', 'Virat', 'Wip', '4500'],\n",
       "       ['4', 'Shubham', 'TCS', '4000'],\n",
       "       ['5', 'Rinku', 'Wip', '2600']], dtype='<U7')"
      ]
     },
     "execution_count": 47,
     "metadata": {},
     "output_type": "execute_result"
    }
   ],
   "source": [
    "arr12 = np.genfromtxt(\"salary.txt\",delimiter=\" \",dtype=\"str\")\n",
    "arr12"
   ]
  },
  {
   "cell_type": "code",
   "execution_count": 48,
   "id": "f4f2175f-8c75-4be1-af2b-1f886900d891",
   "metadata": {},
   "outputs": [
    {
     "data": {
      "text/plain": [
       "array([[42, 37, 39, 44],\n",
       "       [62, 55, 50, 53],\n",
       "       [41, 90, 36, 38],\n",
       "       [48, 31, 38, 42],\n",
       "       [84, 74, 47, 39]])"
      ]
     },
     "execution_count": 48,
     "metadata": {},
     "output_type": "execute_result"
    }
   ],
   "source": [
    "arr13 = np.genfromtxt(\"marks.csv\",delimiter=\",\",dtype=\"int\")\n",
    "arr13"
   ]
  },
  {
   "cell_type": "code",
   "execution_count": 49,
   "id": "2ed72210-1bae-4991-98e1-1cc67f7b40e9",
   "metadata": {},
   "outputs": [
    {
     "data": {
      "text/plain": [
       "array([['id', 'name', 'company', 'salary'],\n",
       "       ['1', 'Sachin', 'TCS', '2300'],\n",
       "       ['2', 'Rohit', 'Infy', '3200'],\n",
       "       ['3', 'Virat', 'Wip', '4500'],\n",
       "       ['4', 'Shubham', 'TCS', '4000'],\n",
       "       ['5', 'Rinku', 'Wip', '2600']], dtype='<U7')"
      ]
     },
     "execution_count": 49,
     "metadata": {},
     "output_type": "execute_result"
    }
   ],
   "source": [
    "arr14 = np.loadtxt(\"salary.txt\",delimiter=\" \",dtype=\"str\")\n",
    "arr14"
   ]
  },
  {
   "cell_type": "code",
   "execution_count": 50,
   "id": "97df50bc-b794-4da3-a42a-8ee285fc774a",
   "metadata": {},
   "outputs": [
    {
     "data": {
      "text/plain": [
       "array([[42, 37, 39, 44],\n",
       "       [62, 55, 50, 53],\n",
       "       [41, 90, 36, 38],\n",
       "       [48, 31, 38, 42],\n",
       "       [84, 74, 47, 39]])"
      ]
     },
     "execution_count": 50,
     "metadata": {},
     "output_type": "execute_result"
    }
   ],
   "source": [
    "arr15 = np.loadtxt(\"marks.csv\",delimiter=\",\",dtype=\"int\")\n",
    "arr15"
   ]
  },
  {
   "cell_type": "code",
   "execution_count": 51,
   "id": "b3297932-7fc2-4020-891f-775baf688fe2",
   "metadata": {},
   "outputs": [],
   "source": [
    "np.savetxt(\"array13.csv\",arr13,delimiter=\",\")"
   ]
  },
  {
   "cell_type": "code",
   "execution_count": 52,
   "id": "09b8c7c5-0ad5-452c-8b4c-09bd67ad5f87",
   "metadata": {},
   "outputs": [],
   "source": [
    "np.save(\"arr13.npy\",arr13)"
   ]
  },
  {
   "cell_type": "code",
   "execution_count": 53,
   "id": "140c7e14-f3a1-4e82-9e48-d2f2eb8cfeff",
   "metadata": {},
   "outputs": [
    {
     "data": {
      "text/plain": [
       "array([[42, 37, 39, 44],\n",
       "       [62, 55, 50, 53],\n",
       "       [41, 90, 36, 38],\n",
       "       [48, 31, 38, 42],\n",
       "       [84, 74, 47, 39]])"
      ]
     },
     "execution_count": 53,
     "metadata": {},
     "output_type": "execute_result"
    }
   ],
   "source": [
    "loading_array = np.load(\"arr13.npy\")\n",
    "loading_array"
   ]
  },
  {
   "cell_type": "code",
   "execution_count": 54,
   "id": "f463bc93-ac1e-40a5-857b-e9d4e658c241",
   "metadata": {},
   "outputs": [
    {
     "data": {
      "text/plain": [
       "array([[42, 62, 41, 48, 84],\n",
       "       [37, 55, 90, 31, 74],\n",
       "       [39, 50, 36, 38, 47],\n",
       "       [44, 53, 38, 42, 39]])"
      ]
     },
     "execution_count": 54,
     "metadata": {},
     "output_type": "execute_result"
    }
   ],
   "source": [
    "#TRANSPOSE\n",
    "loading_array.T"
   ]
  },
  {
   "cell_type": "code",
   "execution_count": 55,
   "id": "cac645a2-ddef-4d14-ba3a-693faa0e1fb4",
   "metadata": {},
   "outputs": [
    {
     "data": {
      "text/plain": [
       "array([ 1,  2,  3,  4,  5,  6,  7,  8,  9, 10, 11, 12, 13, 14, 15, 16, 17,\n",
       "       18, 19, 20, 21, 22, 23, 24])"
      ]
     },
     "execution_count": 55,
     "metadata": {},
     "output_type": "execute_result"
    }
   ],
   "source": [
    "arr16 = np.arange(1,25)\n",
    "arr16"
   ]
  },
  {
   "cell_type": "code",
   "execution_count": 56,
   "id": "3fe01db8-24aa-4e3b-889c-b48e972b00fa",
   "metadata": {},
   "outputs": [
    {
     "data": {
      "text/plain": [
       "1"
      ]
     },
     "execution_count": 56,
     "metadata": {},
     "output_type": "execute_result"
    }
   ],
   "source": [
    "#1D SLICING\n",
    "arr16[0]"
   ]
  },
  {
   "cell_type": "code",
   "execution_count": 57,
   "id": "ef7c45cf-040a-4043-97c3-dcb49380488e",
   "metadata": {},
   "outputs": [
    {
     "data": {
      "text/plain": [
       "array([[ 1,  2,  3,  4],\n",
       "       [ 5,  6,  7,  8],\n",
       "       [ 9, 10, 11, 12],\n",
       "       [13, 14, 15, 16],\n",
       "       [17, 18, 19, 20],\n",
       "       [21, 22, 23, 24]])"
      ]
     },
     "execution_count": 57,
     "metadata": {},
     "output_type": "execute_result"
    }
   ],
   "source": [
    "#2D SLICING\n",
    "arr16.resize(6,4)\n",
    "arr16"
   ]
  },
  {
   "cell_type": "code",
   "execution_count": 58,
   "id": "b4f42a5a-bf74-4972-8a77-108daf838c0d",
   "metadata": {},
   "outputs": [
    {
     "data": {
      "text/plain": [
       "array([17, 18, 19, 20])"
      ]
     },
     "execution_count": 58,
     "metadata": {},
     "output_type": "execute_result"
    }
   ],
   "source": [
    "#2D SLICING\n",
    "arr16[4]"
   ]
  },
  {
   "cell_type": "code",
   "execution_count": 59,
   "id": "65519a80-e7c6-4ce0-bcea-2f53c926f105",
   "metadata": {},
   "outputs": [
    {
     "data": {
      "text/plain": [
       "19"
      ]
     },
     "execution_count": 59,
     "metadata": {},
     "output_type": "execute_result"
    }
   ],
   "source": [
    "#2D SLICING\n",
    "arr16[4][2]"
   ]
  },
  {
   "cell_type": "code",
   "execution_count": 60,
   "id": "af6a4b1e-7912-4125-88a5-ee2481fe9dc5",
   "metadata": {},
   "outputs": [
    {
     "data": {
      "text/plain": [
       "array([18, 19])"
      ]
     },
     "execution_count": 60,
     "metadata": {},
     "output_type": "execute_result"
    }
   ],
   "source": [
    "arr16[4][1:3]"
   ]
  },
  {
   "cell_type": "code",
   "execution_count": 61,
   "id": "748ef525-8759-4a1a-abcd-55f1c0a33448",
   "metadata": {},
   "outputs": [
    {
     "data": {
      "text/plain": [
       "array([ 3,  7, 11, 15, 19, 23])"
      ]
     },
     "execution_count": 61,
     "metadata": {},
     "output_type": "execute_result"
    }
   ],
   "source": [
    "#arr1[rows,column]\n",
    "#SLICING\n",
    "arr16[:,2]"
   ]
  },
  {
   "cell_type": "code",
   "execution_count": 62,
   "id": "329519b0-b3b8-4a99-a43a-448b025781f3",
   "metadata": {},
   "outputs": [
    {
     "data": {
      "text/plain": [
       "array([ 7, 11, 15])"
      ]
     },
     "execution_count": 62,
     "metadata": {},
     "output_type": "execute_result"
    }
   ],
   "source": [
    "arr16[:,2][1:4]"
   ]
  },
  {
   "cell_type": "code",
   "execution_count": 63,
   "id": "dab2f877-0acb-4cfe-8e81-6b7d831449f3",
   "metadata": {},
   "outputs": [
    {
     "data": {
      "text/plain": [
       "array([[10, 11],\n",
       "       [14, 15]])"
      ]
     },
     "execution_count": 63,
     "metadata": {},
     "output_type": "execute_result"
    }
   ],
   "source": [
    "arr16[2:4,1:3]"
   ]
  },
  {
   "cell_type": "code",
   "execution_count": 64,
   "id": "78de3024-95c1-41fa-ac0e-4fd825e7202e",
   "metadata": {},
   "outputs": [
    {
     "data": {
      "text/plain": [
       "array([[ 3,  4],\n",
       "       [ 7,  8],\n",
       "       [11, 12],\n",
       "       [15, 16]])"
      ]
     },
     "execution_count": 64,
     "metadata": {},
     "output_type": "execute_result"
    }
   ],
   "source": [
    "arr16[0:4,2:4]"
   ]
  },
  {
   "cell_type": "code",
   "execution_count": 65,
   "id": "dbcb7ea7-58a6-4b8b-af73-8a24fe1bbcf1",
   "metadata": {},
   "outputs": [
    {
     "data": {
      "text/plain": [
       "array([[[ 1,  2,  3,  4],\n",
       "        [ 5,  6,  7,  8]],\n",
       "\n",
       "       [[ 9, 10, 11, 12],\n",
       "        [13, 14, 15, 16]],\n",
       "\n",
       "       [[17, 18, 19, 20],\n",
       "        [21, 22, 23, 24]]])"
      ]
     },
     "execution_count": 65,
     "metadata": {},
     "output_type": "execute_result"
    }
   ],
   "source": [
    "#3D SLICING\n",
    "arr16.resize(3,2,4)\n",
    "arr16"
   ]
  },
  {
   "cell_type": "code",
   "execution_count": 66,
   "id": "a2ffe120-45ef-4592-8d38-7593762b9d15",
   "metadata": {},
   "outputs": [
    {
     "data": {
      "text/plain": [
       "3"
      ]
     },
     "execution_count": 66,
     "metadata": {},
     "output_type": "execute_result"
    }
   ],
   "source": [
    "arr16[0][0][2]"
   ]
  },
  {
   "cell_type": "code",
   "execution_count": 67,
   "id": "c7eac796-2866-4a81-b460-b751ac3951ef",
   "metadata": {},
   "outputs": [
    {
     "data": {
      "text/plain": [
       "3"
      ]
     },
     "execution_count": 67,
     "metadata": {},
     "output_type": "execute_result"
    }
   ],
   "source": [
    "arr16[0,0,2]"
   ]
  },
  {
   "cell_type": "code",
   "execution_count": 68,
   "id": "3dea38b0-e5ed-42be-81c2-86acd6f45969",
   "metadata": {},
   "outputs": [
    {
     "data": {
      "text/plain": [
       "array([[10, 11],\n",
       "       [14, 15]])"
      ]
     },
     "execution_count": 68,
     "metadata": {},
     "output_type": "execute_result"
    }
   ],
   "source": [
    "arr16[1,:,1:3]"
   ]
  },
  {
   "cell_type": "code",
   "execution_count": 69,
   "id": "108f28ea-a5d6-4959-a574-d9d77890f18d",
   "metadata": {},
   "outputs": [
    {
     "data": {
      "text/plain": [
       "array([[ 6,  7],\n",
       "       [14, 15],\n",
       "       [22, 23]])"
      ]
     },
     "execution_count": 69,
     "metadata": {},
     "output_type": "execute_result"
    }
   ],
   "source": [
    "arr16[0:3,1,1:3]"
   ]
  },
  {
   "cell_type": "code",
   "execution_count": 70,
   "id": "2531cb24-803b-4e9c-bda9-b2508cf39df0",
   "metadata": {},
   "outputs": [
    {
     "data": {
      "text/plain": [
       "array([[ 5,  6,  7,  8],\n",
       "       [13, 14, 15, 16],\n",
       "       [21, 22, 23, 24]])"
      ]
     },
     "execution_count": 70,
     "metadata": {},
     "output_type": "execute_result"
    }
   ],
   "source": [
    "arr16[:][:,1]"
   ]
  },
  {
   "cell_type": "code",
   "execution_count": 71,
   "id": "d51152f7-3fcc-460e-af56-d5726f211313",
   "metadata": {},
   "outputs": [
    {
     "data": {
      "text/plain": [
       "array([[ 1,  2,  3,  4],\n",
       "       [ 5,  6,  7,  8],\n",
       "       [ 9, 10, 11, 12],\n",
       "       [13, 14, 15, 16],\n",
       "       [17, 18, 19, 20],\n",
       "       [21, 22, 23, 24]])"
      ]
     },
     "execution_count": 71,
     "metadata": {},
     "output_type": "execute_result"
    }
   ],
   "source": [
    "arr16.resize(6,4)\n",
    "arr16"
   ]
  },
  {
   "cell_type": "code",
   "execution_count": 72,
   "id": "65ccd1bb-54cb-4cd6-8c6e-84707c4a6b68",
   "metadata": {},
   "outputs": [
    {
     "data": {
      "text/plain": [
       "array([[ 1,  3,  4],\n",
       "       [ 5,  7,  8],\n",
       "       [ 9, 11, 12],\n",
       "       [13, 15, 16],\n",
       "       [17, 19, 20],\n",
       "       [21, 23, 24]])"
      ]
     },
     "execution_count": 72,
     "metadata": {},
     "output_type": "execute_result"
    }
   ],
   "source": [
    "#FANCY INDEXING\n",
    "arr16[:,[0,2,3]]"
   ]
  },
  {
   "cell_type": "code",
   "execution_count": 73,
   "id": "ded89d9b-9cec-4c2c-9fd1-d76653522c96",
   "metadata": {},
   "outputs": [
    {
     "data": {
      "text/plain": [
       "array([[ 1,  2,  3,  4],\n",
       "       [ 5,  6,  7,  8],\n",
       "       [21, 22, 23, 24]])"
      ]
     },
     "execution_count": 73,
     "metadata": {},
     "output_type": "execute_result"
    }
   ],
   "source": [
    "arr16[[0,1,5],:]"
   ]
  },
  {
   "cell_type": "code",
   "execution_count": 74,
   "id": "8b4865a9-6305-46d7-b59a-7bd96311c245",
   "metadata": {},
   "outputs": [
    {
     "data": {
      "text/plain": [
       "array([6, 7, 9, 5])"
      ]
     },
     "execution_count": 74,
     "metadata": {},
     "output_type": "execute_result"
    }
   ],
   "source": [
    "arr17 = np.random.randint(4,10,4)\n",
    "arr17"
   ]
  },
  {
   "cell_type": "code",
   "execution_count": 75,
   "id": "56bc6fc0-a95d-49de-a749-a38ec03310db",
   "metadata": {},
   "outputs": [
    {
     "data": {
      "text/plain": [
       "array([7, 9, 9, 6])"
      ]
     },
     "execution_count": 75,
     "metadata": {},
     "output_type": "execute_result"
    }
   ],
   "source": [
    "arr18 = np.random.randint(4,10,4)\n",
    "arr18"
   ]
  },
  {
   "cell_type": "code",
   "execution_count": 76,
   "id": "7df04583-2464-4560-aa57-e837042435a5",
   "metadata": {},
   "outputs": [
    {
     "data": {
      "text/plain": [
       "array([13, 16, 18, 11])"
      ]
     },
     "execution_count": 76,
     "metadata": {},
     "output_type": "execute_result"
    }
   ],
   "source": [
    "arr17 + arr18"
   ]
  }
 ],
 "metadata": {
  "kernelspec": {
   "display_name": "Python 3 (ipykernel)",
   "language": "python",
   "name": "python3"
  },
  "language_info": {
   "codemirror_mode": {
    "name": "ipython",
    "version": 3
   },
   "file_extension": ".py",
   "mimetype": "text/x-python",
   "name": "python",
   "nbconvert_exporter": "python",
   "pygments_lexer": "ipython3",
   "version": "3.12.0"
  }
 },
 "nbformat": 4,
 "nbformat_minor": 5
}
