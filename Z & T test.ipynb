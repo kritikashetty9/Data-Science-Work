{
 "cells": [
  {
   "cell_type": "code",
   "execution_count": 1,
   "id": "a9e00a68-4083-443c-8445-dd698396271f",
   "metadata": {},
   "outputs": [],
   "source": [
    "import numpy as np"
   ]
  },
  {
   "cell_type": "code",
   "execution_count": 2,
   "id": "8a62580b-df99-4be2-86e9-a4557480b4db",
   "metadata": {},
   "outputs": [],
   "source": [
    "def one_sample_z_test(s_mean, p_mean, std, n_sample):\n",
    "    import numpy as np\n",
    "    return np.abs((s_mean - p_mean) / ( std / np.sqrt(n_sample)))"
   ]
  },
  {
   "cell_type": "code",
   "execution_count": 3,
   "id": "f4c72df9-d313-45b8-9ce0-a2a833bffc6f",
   "metadata": {},
   "outputs": [
    {
     "data": {
      "text/plain": [
       "4.5"
      ]
     },
     "execution_count": 3,
     "metadata": {},
     "output_type": "execute_result"
    }
   ],
   "source": [
    "one_sample_z_test(23500, 22000, 3000, 81)"
   ]
  },
  {
   "cell_type": "code",
   "execution_count": 4,
   "id": "c383b722-8ebc-423e-89bf-d7e740182bf8",
   "metadata": {},
   "outputs": [],
   "source": [
    "def two_sample_z_test(x1,x2,s1,s2,n1,n2):\n",
    "    import numpy as np\n",
    "    return np.abs((x1-x2) / np.sqrt((np.square(s1)/n1)+ (np.square(s2)/n2)))"
   ]
  },
  {
   "cell_type": "code",
   "execution_count": 5,
   "id": "37998593-60d8-4ca5-a62b-be5f43fbbd3b",
   "metadata": {},
   "outputs": [
    {
     "data": {
      "text/plain": [
       "2.6062334565784164"
      ]
     },
     "execution_count": 5,
     "metadata": {},
     "output_type": "execute_result"
    }
   ],
   "source": [
    "two_sample_z_test(32,35,5,7,40,70)"
   ]
  },
  {
   "cell_type": "code",
   "execution_count": 6,
   "id": "5626eb4b-3f40-412a-af2c-0ac5dfce9a87",
   "metadata": {},
   "outputs": [],
   "source": [
    "def one_sample_t_test(s_mean, p_mean, std, n_sample):\n",
    "    import numpy as np\n",
    "    return np.abs((s_mean - p_mean) / ( std / np.sqrt(n_sample)))"
   ]
  },
  {
   "cell_type": "code",
   "execution_count": 7,
   "id": "960ef91f-5708-46a6-aef3-8a9fe51a2537",
   "metadata": {},
   "outputs": [
    {
     "data": {
      "text/plain": [
       "4.0"
      ]
     },
     "execution_count": 7,
     "metadata": {},
     "output_type": "execute_result"
    }
   ],
   "source": [
    "one_sample_t_test(95,100,5,16)"
   ]
  },
  {
   "cell_type": "code",
   "execution_count": 10,
   "id": "6b53a403-2483-4761-9079-1dd64e50a85c",
   "metadata": {},
   "outputs": [],
   "source": [
    "def two_sample_t_test(x1,x2,s1,s2,n1,n2):\n",
    "    import numpy as np\n",
    "    return np.abs((x1-x2)/np.sqrt(((((s1**2)*(n1-1))+((s2**2)*(n2-1)))/((n1+n2)-2))*((1/n1)+(1/n2))))"
   ]
  },
  {
   "cell_type": "code",
   "execution_count": 11,
   "id": "56367db8-61b7-48f0-ab92-a91a8c49b75a",
   "metadata": {},
   "outputs": [
    {
     "data": {
      "text/plain": [
       "0.28478667152073966"
      ]
     },
     "execution_count": 11,
     "metadata": {},
     "output_type": "execute_result"
    }
   ],
   "source": [
    "two_sample_t_test(5.75,5.61,1.1,1.3,12,12)"
   ]
  },
  {
   "cell_type": "code",
   "execution_count": 12,
   "id": "5693f11f-3ddd-437b-99aa-41768f87ac99",
   "metadata": {},
   "outputs": [
    {
     "data": {
      "text/plain": [
       "25.853700275025812"
      ]
     },
     "execution_count": 12,
     "metadata": {},
     "output_type": "execute_result"
    }
   ],
   "source": [
    "two_sample_t_test(170000,126000,6000,5400,20,25)"
   ]
  },
  {
   "cell_type": "code",
   "execution_count": 13,
   "id": "58e19dc7-0a62-4789-aaf0-58756b6f84de",
   "metadata": {},
   "outputs": [
    {
     "data": {
      "text/plain": [
       "5.773502691896258"
      ]
     },
     "execution_count": 13,
     "metadata": {},
     "output_type": "execute_result"
    }
   ],
   "source": [
    "#An admission test was administered to incoming freshmen in the Colleges of Nursing and Veterinary Medicine with 100 students. \n",
    "#Each was randomly selected. The mean scores of the given samples were\n",
    "#x ₁= 10 and x₂ =15 and the variances of the test scores were 40 and 35, respectively.\n",
    "#Is there a significant difference between the two groups? Use 0.01 level of significance.\n",
    "two_sample_z_test(10,15,np.sqrt(40),np.sqrt(35),100,100)\n",
    "\n",
    "#So we reject null hypothesis as 5.77 > 2.58."
   ]
  },
  {
   "cell_type": "code",
   "execution_count": null,
   "id": "b56be639-3681-4de9-95f6-c0f8cf6eb65a",
   "metadata": {},
   "outputs": [],
   "source": []
  }
 ],
 "metadata": {
  "kernelspec": {
   "display_name": "Python 3 (ipykernel)",
   "language": "python",
   "name": "python3"
  },
  "language_info": {
   "codemirror_mode": {
    "name": "ipython",
    "version": 3
   },
   "file_extension": ".py",
   "mimetype": "text/x-python",
   "name": "python",
   "nbconvert_exporter": "python",
   "pygments_lexer": "ipython3",
   "version": "3.12.0"
  }
 },
 "nbformat": 4,
 "nbformat_minor": 5
}
